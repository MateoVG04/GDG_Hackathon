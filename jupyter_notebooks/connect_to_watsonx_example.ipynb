{
 "cells": [
  {
   "cell_type": "code",
   "execution_count": null,
   "id": "initial_id",
   "metadata": {
    "collapsed": true
   },
   "outputs": [],
   "source": [
    "import os\n",
    "from ibm_watsonx_ai import Credentials, APIClient, Model\n",
    "\n",
    "credentials = Credentials(\n",
    "    url=\"https://us-south.ml.cloud.ibm.com\",\n",
    "    api_key=os.getenv(\"WATSONX_API_KEY\"),\n",
    ")\n",
    "project_id = os.environ[\"PROJECT_ID\"]\n",
    "client = APIClient(credentials)\n",
    "client.set.default_project(project_id) # Should print 'SUCCESS'"
   ]
  },
  {
   "metadata": {},
   "cell_type": "code",
   "outputs": [],
   "execution_count": null,
   "source": [
    "# Select model here https://dataplatform.cloud.ibm.com/catalog/models\n",
    "foundational_model_id = \"ibm/granite-13b-chat-v2\"\n",
    "\n",
    "foundational_model = Model(\n",
    "    model_id=foundational_model_id,\n",
    "    credentials=credentials,\n",
    "    project_id=project_id\n",
    ")"
   ],
   "id": "a51a358dbc4570c9"
  },
  {
   "metadata": {},
   "cell_type": "code",
   "outputs": [],
   "execution_count": null,
   "source": [
    "parameters = {\n",
    "    \"decoding_method\": \"greedy\",\n",
    "    \"temperature\": 0,\n",
    "    \"max_new_tokens\": 500,\n",
    "    \"response_format\": {\n",
    "        \"type\": \"json\",\n",
    "        \"schema\": {\n",
    "            \"type\": \"object\",\n",
    "            \"properties\": {\n",
    "                \"answer\": {\"type\": \"string\"},\n",
    "                \"confidence\": {\"type\": \"number\"},\n",
    "                \"sources\": {\"type\": \"array\", \"items\": {\"type\": \"string\"}}\n",
    "            },\n",
    "            \"required\": [\"answer\", \"confidence\"]\n",
    "        }\n",
    "    }\n",
    "}\n",
    "question = \"Explain concordance checking in natural language processing\"\n",
    "prompt = f\"\"\"\n",
    "You are an AI assistant that must respond strictly in JSON.\n",
    "\n",
    "Required format:\n",
    "{\n",
    "  \"answer\": string,\n",
    "  \"confidence\": float,\n",
    "  \"sources\": [string]\n",
    "}\n",
    "\n",
    "Do not include any extra text or explanations.\n",
    "Question: {question}\n",
    "\"\"\"\n",
    "\n",
    "response = foundational_model.generate(input=prompt, parameters=parameters)"
   ],
   "id": "aae968155912d3f4"
  }
 ],
 "metadata": {
  "kernelspec": {
   "display_name": "Python 3",
   "language": "python",
   "name": "python3"
  },
  "language_info": {
   "codemirror_mode": {
    "name": "ipython",
    "version": 2
   },
   "file_extension": ".py",
   "mimetype": "text/x-python",
   "name": "python",
   "nbconvert_exporter": "python",
   "pygments_lexer": "ipython2",
   "version": "2.7.6"
  }
 },
 "nbformat": 4,
 "nbformat_minor": 5
}
