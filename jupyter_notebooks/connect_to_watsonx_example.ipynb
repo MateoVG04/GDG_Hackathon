{
 "cells": [
  {
   "cell_type": "code",
   "execution_count": null,
   "id": "initial_id",
   "metadata": {
    "collapsed": true
   },
   "outputs": [],
   "source": [
    "import os\n",
    "from ibm_watsonx_ai import Credentials, APIClient\n",
    "\n",
    "credentials = Credentials(\n",
    "    url=\"https://us-south.ml.cloud.ibm.com\",\n",
    "    api_key=os.getenv(\"WATSONX_API_KEY\"),\n",
    ")\n",
    "project_id = os.environ[\"PROJECT_ID\"]\n",
    "client = APIClient(credentials)\n",
    "client.set.default_project(project_id) # Should print 'SUCCESS'"
   ]
  }
 ],
 "metadata": {
  "kernelspec": {
   "display_name": "Python 3",
   "language": "python",
   "name": "python3"
  },
  "language_info": {
   "codemirror_mode": {
    "name": "ipython",
    "version": 2
   },
   "file_extension": ".py",
   "mimetype": "text/x-python",
   "name": "python",
   "nbconvert_exporter": "python",
   "pygments_lexer": "ipython2",
   "version": "2.7.6"
  }
 },
 "nbformat": 4,
 "nbformat_minor": 5
}
