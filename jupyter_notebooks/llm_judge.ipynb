{
 "cells": [
  {
   "cell_type": "code",
   "id": "initial_id",
   "metadata": {
    "collapsed": true,
    "ExecuteTime": {
     "end_time": "2025-10-29T12:42:36.853643Z",
     "start_time": "2025-10-29T12:42:35.049738Z"
    }
   },
   "source": [
    "import os\n",
    "from ibm_watsonx_ai import Credentials, APIClient\n",
    "\n",
    "api_key = os.getenv(\"WANSONX_API_KEY\")\n",
    "project_id = \"3a6f52db-292f-415d-a06b-47fb20378d26\"\n",
    "if api_key is None:\n",
    "    raise ValueError(\"API Key not provided\")\n",
    "\n",
    "credentials = Credentials(\n",
    "    url=\"https://us-south.ml.cloud.ibm.com\",\n",
    "    api_key=api_key,\n",
    ")\n",
    "client = APIClient(credentials)\n",
    "client.set.default_project(project_id) # Should print 'SUCCESS'"
   ],
   "outputs": [
    {
     "data": {
      "text/plain": [
       "'SUCCESS'"
      ]
     },
     "execution_count": 8,
     "metadata": {},
     "output_type": "execute_result"
    }
   ],
   "execution_count": 8
  },
  {
   "metadata": {
    "ExecuteTime": {
     "end_time": "2025-10-29T12:48:11.444841Z",
     "start_time": "2025-10-29T12:48:09.084168Z"
    }
   },
   "cell_type": "code",
   "source": [
    "from ibm_watsonx_ai.foundation_models import ModelInference\n",
    "\n",
    "# Select model here https://dataplatform.cloud.ibm.com/catalog/models\n",
    "foundational_model_id = \"ibm/granite-3-2-8b-instruct\"\n",
    "\n",
    "foundational_model = ModelInference(\n",
    "    model_id=foundational_model_id,\n",
    "    credentials=credentials,\n",
    "    project_id=project_id\n",
    ")"
   ],
   "id": "a51a358dbc4570c9",
   "outputs": [],
   "execution_count": 16
  },
  {
   "metadata": {
    "ExecuteTime": {
     "end_time": "2025-10-29T18:03:57.217742Z",
     "start_time": "2025-10-29T18:03:56.408742Z"
    }
   },
   "cell_type": "code",
   "source": [
    "parameters = {\n",
    "    \"decoding_method\": \"greedy\",\n",
    "    \"temperature\": 0,\n",
    "    \"max_new_tokens\": 200,\n",
    "    \"response_format\": {\n",
    "        \"type\": \"json\",\n",
    "        \"schema\": {\n",
    "            \"type\": \"object\",\n",
    "            \"properties\": {\n",
    "                \"match\": {\"type\": \"boolean\"},\n",
    "                \"reason\": {\"type\": \"string\"}\n",
    "            },\n",
    "            \"required\": [\"match\"]\n",
    "        }\n",
    "    }\n",
    "}\n",
    "\n",
    "sentence1 = \"folglich die Beklagten im ersten Rechtszug zu verurteilen, ihm die beantragten Kosten in Höhe von 779902,87 Euro zu erstatten, und zwar im Einzelnen:\"\n",
    "sentence2 = \"accordingly, to order the defendants at first instance to pay it the expenses claimed, that is to say, EUR 779 902.87, and in particular\"\n",
    "\n",
    "prompt = f\"\"\"\n",
    "You are an AI assistant that compares two sentences strictly for factual correctness and subject alignment.\n",
    "\n",
    "Return a JSON object with:\n",
    "{{\n",
    "  \"match\": true or false,  # true if the sentences are factually correct and discuss the same subject, otherwise false\n",
    "  \"reason\": \"string\"       # optional explanation for your decision\n",
    "}}\n",
    "\n",
    "Do not include any extra text outside the JSON.\n",
    "\n",
    "Sentence 1: \"{sentence1}\"\n",
    "Sentence 2: \"{sentence2}\"\n",
    "\"\"\"\n",
    "\n",
    "response = foundational_model.generate(prompt=prompt, params=parameters)\n",
    "print(response)"
   ],
   "id": "aae968155912d3f4",
   "outputs": [
    {
     "name": "stdout",
     "output_type": "stream",
     "text": [
      "{'model_id': 'ibm/granite-3-2-8b-instruct', 'model_version': '1.0.0', 'created_at': '2025-10-29T18:03:59.289Z', 'results': [{'generated_text': '\\n{\\n  \"match\": true,\\n  \"reason\": \"Both sentences convey the same factual information about ordering the defendants to pay a specific amount of money, EUR 779902.87, in the context of a legal proceeding.\"\\n}', 'generated_token_count': 59, 'input_token_count': 200, 'stop_reason': 'eos_token'}], 'system': {'warnings': [{'message': 'In future implementation, the parameter `parameters.decoding_method` will be ignored and set automatically', 'id': 'param_deprecation'}, {'message': \"This API is legacy. Please consider using '/ml/v1/text/chat' instead.\", 'id': 'api_legacy'}]}}\n"
     ]
    }
   ],
   "execution_count": 20
  },
  {
   "metadata": {
    "ExecuteTime": {
     "end_time": "2025-10-29T12:48:25.011464Z",
     "start_time": "2025-10-29T12:48:25.008129Z"
    }
   },
   "cell_type": "code",
   "source": "print(response)",
   "id": "d23e891bb67dc5b3",
   "outputs": [
    {
     "name": "stdout",
     "output_type": "stream",
     "text": [
      "{'model_id': 'ibm/granite-3-2-8b-instruct', 'model_version': '1.0.0', 'created_at': '2025-10-29T12:48:17.882Z', 'results': [{'generated_text': '\\n{\\n  \"answer\": \"Concordance checking in natural language processing involves comparing a given text with a reference text or a set of rules to ensure that the words or phrases used are consistent and appropriate. It\\'s a method used to verify the accuracy and coherence of language use, often in tasks like machine translation, text summarization, or grammar correction. The process typically involves identifying potential discrepancies, such as mismatched verb tenses, incorrect word usage, or inconsistent terminology, and flagging them for review or correction.\",\\n  \"confidence\": 0.95,\\n  \"sources\": [\"Natural Language Processing with Python by Steven Bird, Ewan Klein, and Edward Loper\"]\\n}', 'generated_token_count': 152, 'input_token_count': 72, 'stop_reason': 'eos_token'}], 'system': {'warnings': [{'message': 'In future implementation, the parameter `parameters.decoding_method` will be ignored and set automatically', 'id': 'param_deprecation'}, {'message': \"This API is legacy. Please consider using '/ml/v1/text/chat' instead.\", 'id': 'api_legacy'}]}}\n"
     ]
    }
   ],
   "execution_count": 18
  }
 ],
 "metadata": {
  "kernelspec": {
   "display_name": "Python 3",
   "language": "python",
   "name": "python3"
  },
  "language_info": {
   "codemirror_mode": {
    "name": "ipython",
    "version": 2
   },
   "file_extension": ".py",
   "mimetype": "text/x-python",
   "name": "python",
   "nbconvert_exporter": "python",
   "pygments_lexer": "ipython2",
   "version": "2.7.6"
  }
 },
 "nbformat": 4,
 "nbformat_minor": 5
}
