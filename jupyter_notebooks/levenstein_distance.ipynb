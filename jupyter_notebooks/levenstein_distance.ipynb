{
 "cells": [
  {
   "metadata": {
    "ExecuteTime": {
     "end_time": "2025-10-29T15:37:21.727067Z",
     "start_time": "2025-10-29T15:37:21.724151Z"
    }
   },
   "cell_type": "code",
   "source": [
    "# Loading in dataset\n",
    "import json\n",
    "def read_paragraphs_from_json(json_file):\n",
    "    with open(json_file, 'r', encoding='utf-8') as file:\n",
    "        data = json.load(file)\n",
    "    return data[0][\"para\"]"
   ],
   "id": "c20c8f6bff6ee750",
   "outputs": [],
   "execution_count": 2
  },
  {
   "metadata": {
    "ExecuteTime": {
     "end_time": "2025-10-29T15:37:35.884820Z",
     "start_time": "2025-10-29T15:37:35.875994Z"
    }
   },
   "cell_type": "code",
   "source": [
    "import Levenshtein\n",
    "\n",
    "def filter_out_words(input_text: str):\n",
    "    split = input_text.split(' ')\n",
    "    no_num = [w for w in split if not w.isdigit()]\n",
    "    short_words = [w for w in no_num if 1 < len(w) < 15 and w.isupper()]\n",
    "    return short_words\n",
    "\n",
    "def levenstein_distance(paragraph_one, paragraph_two):\n",
    "    words_one = filter_out_words(paragraph_one)\n",
    "    words_two = filter_out_words(paragraph_two)\n",
    "\n",
    "    # Find all word pairs with Levenshtein distance == 1\n",
    "    levenstein_1_pairs: list[tuple[str, str]] = [\n",
    "        (w1, w2)\n",
    "        for w1 in words_one\n",
    "        for w2 in words_two\n",
    "        if Levenshtein.distance(w1, w2) == 1 and len(w1) == len(w2)\n",
    "    ]\n",
    "\n",
    "    return levenstein_1_pairs\n",
    "\n",
    "en_data = read_paragraphs_from_json(\"../data/test_sample_en_parsed.json\")\n",
    "de_data = read_paragraphs_from_json(\"../data/test_sample_de_parsed.json\")\n",
    "\n",
    "total = 0\n",
    "levenstein_1_pairs = []\n",
    "for i, _ in enumerate(en_data):\n",
    "    en_results = levenstein_distance(en_data[i][\"para\"], de_data[i][\"para\"])\n",
    "    total += len(en_results)\n",
    "    levenstein_1_pairs += en_results\n",
    "\n",
    "grouped_count = {}\n",
    "levenstein_frequency_filtered = []\n",
    "for levenstein_1_pair in levenstein_1_pairs:\n",
    "    grouped_count[levenstein_1_pair] = grouped_count.get(levenstein_1_pair, 0) + 1\n",
    "\n",
    "for levenstein_1_pair in levenstein_1_pairs:\n",
    "    if grouped_count.get(levenstein_1_pair, 0) < 10:\n",
    "        levenstein_frequency_filtered.append(levenstein_1_pair)\n",
    "\n",
    "for w1, w2 in levenstein_frequency_filtered:\n",
    "    print(f\"{w1!r} ↔ {w2!r}\")\n",
    "\n",
    "print(len(levenstein_frequency_filtered))"
   ],
   "id": "4cc2e83682585a57",
   "outputs": [
    {
     "name": "stdout",
     "output_type": "stream",
     "text": [
      "'AND' ↔ 'UND'\n",
      "'AND' ↔ 'UND'\n",
      "'(MFF)' ↔ '(MFR)'\n",
      "'(ECB)' ↔ '(EZB)'\n",
      "'ECB' ↔ 'EZB'\n",
      "'(EC)' ↔ '(EG)'\n",
      "6\n"
     ]
    }
   ],
   "execution_count": 4
  },
  {
   "metadata": {},
   "cell_type": "code",
   "outputs": [],
   "execution_count": null,
   "source": "",
   "id": "8e87e0c85f372bf4"
  }
 ],
 "metadata": {
  "kernelspec": {
   "name": "python3",
   "language": "python",
   "display_name": "Python 3 (ipykernel)"
  }
 },
 "nbformat": 5,
 "nbformat_minor": 9
}
